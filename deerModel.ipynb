{
 "cells": [
  {
   "cell_type": "markdown",
   "metadata": {},
   "source": [
    "# Camera Trap Processing Thesis\n",
    "\n",
    "Author: Jameson Andrews\\\n",
    "EDITS:\\\n",
    "09/13/2023, Initial Creation, Jameson"
   ]
  },
  {
   "cell_type": "markdown",
   "metadata": {},
   "source": [
    "## Load model"
   ]
  },
  {
   "cell_type": "code",
   "execution_count": null,
   "metadata": {},
   "outputs": [],
   "source": [
    "import numpy as np\n",
    "import tensorflow as tf\n",
    "import keras\n",
    "from tensorflow.keras import models\n",
    "from tensorflow.keras.utils import load_img\n",
    "from tensorflow.keras.utils import img_to_array\n",
    "from keras.applications.vgg19 import preprocess_input\n",
    "from keras.applications.vgg19 import decode_predictions\n",
    "from keras.applications.vgg19 import VGG19\n",
    "\n",
    "preTrainedModel = VGG19()\n",
    "preTrainedModel.trainable = False\n",
    "preTrainedModel.summary()\n"
   ]
  },
  {
   "cell_type": "markdown",
   "metadata": {},
   "source": [
    "## Create complete Model with Custom output Layer"
   ]
  },
  {
   "cell_type": "code",
   "execution_count": null,
   "metadata": {},
   "outputs": [],
   "source": [
    "from keras.layers import Dense, Activation, Flatten\n",
    "from tensorflow.keras.optimizers import Adam\n",
    "\n",
    "completeModel = models.Sequential()\n",
    "completeModel.add(preTrainedModel)\n",
    "completeModel.add(Dense(100, activation = \"relu\"))\n",
    "# completeModel.add(Dense(75, activation = \"relu\"))\n",
    "# completeModel.add(Dense(50, activation = \"relu\"))\n",
    "# completeModel.add(Dense(25, activation = \"relu\"))\n",
    "completeModel.add(Dense(1, activation = \"sigmoid\"))\n",
    "completeModel.summary()\n",
    "completeModel.compile(loss='binary_crossentropy', optimizer=Adam(lr=0.001), metrics=['accuracy'])\n"
   ]
  },
  {
   "cell_type": "markdown",
   "metadata": {},
   "source": [
    "## Orgainze test and training data\n",
    "Be sure to adjust files prior to training"
   ]
  },
  {
   "cell_type": "code",
   "execution_count": null,
   "metadata": {},
   "outputs": [],
   "source": [
    "trainingValues = [0] * 992 + [1] * 1259\n",
    "testValues = [1] * 160 + [0] * 154\n",
    "trainImages = keras.utils.image_dataset_from_directory( #Takes given directory and automatically organizes it based on subdirectories\n",
    "    directory='trainingData',\n",
    "    labels = trainingValues,\n",
    "    label_mode='binary',\n",
    "    batch_size=32,\n",
    "    image_size=(224, 224))\n",
    "testImages = keras.utils.image_dataset_from_directory(\n",
    "    directory='testData',\n",
    "    labels= testValues,\n",
    "    label_mode='binary',\n",
    "    batch_size=32,\n",
    "    image_size=(224, 224))\n",
    "print (trainImages)"
   ]
  },
  {
   "cell_type": "markdown",
   "metadata": {},
   "source": [
    "## Prediction before training"
   ]
  },
  {
   "cell_type": "code",
   "execution_count": null,
   "metadata": {},
   "outputs": [],
   "source": [
    "testPicture = load_img('../deerCrop.jpeg', target_size=(224,224))\n",
    "pictureArray = img_to_array(testPicture)\n",
    "pictureArray = pictureArray.reshape((1, pictureArray.shape[0], pictureArray.shape[1], pictureArray.shape[2]))\n",
    "pictureArray = preprocess_input(pictureArray)\n",
    "yhat = completeModel.predict(pictureArray)\n",
    "print(yhat)"
   ]
  },
  {
   "cell_type": "markdown",
   "metadata": {},
   "source": [
    "## Train Last two layers"
   ]
  },
  {
   "cell_type": "code",
   "execution_count": null,
   "metadata": {},
   "outputs": [],
   "source": [
    "completeModel.fit(trainImages, epochs=10, batch_size=100)"
   ]
  },
  {
   "cell_type": "markdown",
   "metadata": {},
   "source": [
    "## Test Some data"
   ]
  },
  {
   "cell_type": "code",
   "execution_count": null,
   "metadata": {},
   "outputs": [],
   "source": [
    "score = completeModel.evaluate(testImages)\n",
    "print (\"loss = \", score[0])\n",
    "print (\"accuracy = \", score[1])"
   ]
  },
  {
   "cell_type": "markdown",
   "metadata": {},
   "source": [
    "## See what happens with a deer image"
   ]
  },
  {
   "cell_type": "code",
   "execution_count": null,
   "metadata": {},
   "outputs": [],
   "source": [
    "from PIL import Image\n",
    "testPicture = load_img('testData/testDeer/SEQ86955_IMG_0004.JPG___crop00_md_v5a.0.0.pt.jpg', target_size=(224,224))\n",
    "# testPicture = load_img('../deerNightCrop.jpg', target_size=(224,224))\n",
    "# testPicture = load_img('../foxNightCrop2.jpg', target_size=(224,224))\n",
    "# testPicture = load_img('../possumNightCrop.jpg', target_size=(224,224))\n",
    "# testPicture = load_img('../downloadRabbit.jpeg', target_size=(224,224))\n",
    "# testPicture = load_img('../rabbitNightCrop1.jpg', target_size=(224,224))\n",
    "testPicture.show()\n",
    "pictureArray = img_to_array(testPicture)\n",
    "pictureArray = pictureArray.reshape((1, pictureArray.shape[0], pictureArray.shape[1], pictureArray.shape[2]))\n",
    "pictureArray = preprocess_input(pictureArray)\n",
    "yhat = completeModel.predict(pictureArray)\n",
    "print(yhat)\n",
    "\n",
    "\n",
    "# 0 is deer, 1 is fox, 2 is Possum, 3 is rabbit, 4 is squirrel"
   ]
  },
  {
   "cell_type": "markdown",
   "metadata": {},
   "source": [
    "## Save the model for export"
   ]
  },
  {
   "cell_type": "code",
   "execution_count": null,
   "metadata": {},
   "outputs": [],
   "source": [
    "# completeModel.save(\"deerModel.keras\")"
   ]
  },
  {
   "cell_type": "markdown",
   "metadata": {},
   "source": [
    "## Check test data for each animal"
   ]
  },
  {
   "cell_type": "code",
   "execution_count": null,
   "metadata": {},
   "outputs": [],
   "source": [
    "# import required module\n",
    "import os\n",
    "# assign directory\n",
    "directory = 'testData/testDeer'\n",
    " \n",
    "# iterate over files in\n",
    "# that directory\n",
    "results = [0,0]\n",
    "# 0 is positives 1 is negatives\n",
    "for filename in os.listdir(directory):\n",
    "    f = os.path.join(directory, filename)\n",
    "    # checking if it is a file\n",
    "    if os.path.isfile(f):\n",
    "        print(f)\n",
    "        testPicture = load_img(f, target_size=(224,224))\n",
    "        pictureArray = img_to_array(testPicture)\n",
    "        pictureArray = pictureArray.reshape((1, pictureArray.shape[0], pictureArray.shape[1], pictureArray.shape[2]))\n",
    "        pictureArray = preprocess_input(pictureArray)\n",
    "        yhat = completeModel.predict(pictureArray)\n",
    "        print (yhat)\n",
    "        zhat = yhat.tolist()\n",
    "        x = zhat[0][0]\n",
    "        if x > 0.5:\n",
    "            results[0] += 1\n",
    "        else:\n",
    "            results[1] += 1\n",
    "\n",
    "print (results)"
   ]
  },
  {
   "cell_type": "code",
   "execution_count": null,
   "metadata": {},
   "outputs": [],
   "source": [
    "directory = 'extraTest/testFox'\n",
    " \n",
    "# iterate over files in\n",
    "# that directory\n",
    "results = [0,0]\n",
    "for filename in os.listdir(directory):\n",
    "    f = os.path.join(directory, filename)\n",
    "    # checking if it is a file\n",
    "    if os.path.isfile(f):\n",
    "        print(f)\n",
    "        testPicture = load_img(f, target_size=(224,224))\n",
    "        newPic = testPicture.transpose(Image.FLIP_LEFT_RIGHT)\n",
    "        newPic.save(f[:-4] + \"FlippedImage\" + f[-4:])\n",
    "        pictureArray = img_to_array(testPicture)\n",
    "        pictureArray = pictureArray.reshape((1, pictureArray.shape[0], pictureArray.shape[1], pictureArray.shape[2]))\n",
    "        pictureArray = preprocess_input(pictureArray)\n",
    "        yhat = completeModel.predict(pictureArray)\n",
    "        print (yhat)\n",
    "        zhat = yhat.tolist()\n",
    "        x = zhat[0][0]\n",
    "        if x > 0.5:\n",
    "            results[0] += 1\n",
    "        else:\n",
    "            results[1] += 1\n",
    "print (results)"
   ]
  },
  {
   "cell_type": "code",
   "execution_count": null,
   "metadata": {},
   "outputs": [],
   "source": [
    "directory = 'extraTest/testPossum'\n",
    " \n",
    "# iterate over files in\n",
    "# that directory\n",
    "results = [0,0]\n",
    "for filename in os.listdir(directory):\n",
    "    f = os.path.join(directory, filename)\n",
    "    # checking if it is a file\n",
    "    if os.path.isfile(f):\n",
    "        print(f)\n",
    "        testPicture = load_img(f, target_size=(224,224))\n",
    "        pictureArray = img_to_array(testPicture)\n",
    "        pictureArray = pictureArray.reshape((1, pictureArray.shape[0], pictureArray.shape[1], pictureArray.shape[2]))\n",
    "        pictureArray = preprocess_input(pictureArray)\n",
    "        yhat = completeModel.predict(pictureArray)\n",
    "        print (yhat)\n",
    "        zhat = yhat.tolist()\n",
    "        x = zhat[0][0]\n",
    "        if x > 0.5:\n",
    "            results[0] += 1\n",
    "        else:\n",
    "            results[1] += 1\n",
    "print (results)"
   ]
  },
  {
   "cell_type": "code",
   "execution_count": null,
   "metadata": {},
   "outputs": [],
   "source": [
    "directory = 'extraTest/testRabbit'\n",
    " \n",
    "# iterate over files in\n",
    "# that directory\n",
    "results = [0,0]\n",
    "for filename in os.listdir(directory):\n",
    "    f = os.path.join(directory, filename)\n",
    "    # checking if it is a file\n",
    "    if os.path.isfile(f):\n",
    "        print(f)\n",
    "        testPicture = load_img(f, target_size=(224,224))\n",
    "        pictureArray = img_to_array(testPicture)\n",
    "        pictureArray = pictureArray.reshape((1, pictureArray.shape[0], pictureArray.shape[1], pictureArray.shape[2]))\n",
    "        pictureArray = preprocess_input(pictureArray)\n",
    "        yhat = completeModel.predict(pictureArray)\n",
    "        print (yhat)\n",
    "        zhat = yhat.tolist()\n",
    "        x = zhat[0][0]\n",
    "        if x > 0.5:\n",
    "            results[0] += 1\n",
    "        else:\n",
    "            results[1] += 1\n",
    "print (results)"
   ]
  },
  {
   "cell_type": "code",
   "execution_count": null,
   "metadata": {},
   "outputs": [],
   "source": [
    "directory = 'extraTest/testSquirrel'\n",
    " \n",
    "# iterate over files in\n",
    "# that directory\n",
    "results = [0,0]\n",
    "for filename in os.listdir(directory):\n",
    "    f = os.path.join(directory, filename)\n",
    "    # checking if it is a file\n",
    "    if os.path.isfile(f):\n",
    "        print(f)\n",
    "        testPicture = load_img(f, target_size=(224,224))\n",
    "        pictureArray = img_to_array(testPicture)\n",
    "        pictureArray = pictureArray.reshape((1, pictureArray.shape[0], pictureArray.shape[1], pictureArray.shape[2]))\n",
    "        pictureArray = preprocess_input(pictureArray)\n",
    "        yhat = completeModel.predict(pictureArray)\n",
    "        print (yhat)\n",
    "        zhat = yhat.tolist()\n",
    "        x = zhat[0][0]\n",
    "        if x > 0.5:\n",
    "            results[0] += 1\n",
    "        else:\n",
    "            results[1] += 1\n",
    "print (results)"
   ]
  },
  {
   "cell_type": "markdown",
   "metadata": {},
   "source": [
    "## Code for data manipulation to creaet more data"
   ]
  },
  {
   "cell_type": "code",
   "execution_count": null,
   "metadata": {},
   "outputs": [],
   "source": [
    "# directory = 'trainingData/trainRabbit' #Just change directory name for different animal\n",
    " \n",
    "# # iterate over files in\n",
    "# # that directory\n",
    "# results = [0,0,0,0]\n",
    "# for filename in os.listdir(directory):\n",
    "#     f = os.path.join(directory, filename)\n",
    "#     # checking if it is a file\n",
    "#     if os.path.isfile(f):\n",
    "#         print(f)\n",
    "#         testPicture = load_img(f, target_size=(224,224))\n",
    "#         newPic = testPicture.transpose(Image.FLIP_LEFT_RIGHT)\n",
    "#         newPic.save(f[:-4] + \"FlippedImage\" + f[-4:])"
   ]
  }
 ],
 "metadata": {
  "kernelspec": {
   "display_name": "Python 3.10 (tensorflow)",
   "language": "python",
   "name": "tensorflow"
  },
  "language_info": {
   "codemirror_mode": {
    "name": "ipython",
    "version": 3
   },
   "file_extension": ".py",
   "mimetype": "text/x-python",
   "name": "python",
   "nbconvert_exporter": "python",
   "pygments_lexer": "ipython3",
   "version": "3.10.9"
  },
  "orig_nbformat": 4
 },
 "nbformat": 4,
 "nbformat_minor": 2
}
