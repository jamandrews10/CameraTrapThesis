{
 "cells": [
  {
   "cell_type": "markdown",
   "metadata": {},
   "source": [
    "# Camera Trap Processing Thesis\n",
    "\n",
    "Author: Jameson Andrews\\\n",
    "EDITS:\\\n",
    "09/13/2023, Initial Creation, Jameson"
   ]
  },
  {
   "cell_type": "markdown",
   "metadata": {},
   "source": [
    "## Load model"
   ]
  },
  {
   "cell_type": "code",
   "execution_count": 193,
   "metadata": {},
   "outputs": [
    {
     "name": "stdout",
     "output_type": "stream",
     "text": [
      "Model: \"vgg19\"\n",
      "_________________________________________________________________\n",
      " Layer (type)                Output Shape              Param #   \n",
      "=================================================================\n",
      " input_27 (InputLayer)       [(None, 224, 224, 3)]     0         \n",
      "                                                                 \n",
      " block1_conv1 (Conv2D)       (None, 224, 224, 64)      1792      \n",
      "                                                                 \n",
      " block1_conv2 (Conv2D)       (None, 224, 224, 64)      36928     \n",
      "                                                                 \n",
      " block1_pool (MaxPooling2D)  (None, 112, 112, 64)      0         \n",
      "                                                                 \n",
      " block2_conv1 (Conv2D)       (None, 112, 112, 128)     73856     \n",
      "                                                                 \n",
      " block2_conv2 (Conv2D)       (None, 112, 112, 128)     147584    \n",
      "                                                                 \n",
      " block2_pool (MaxPooling2D)  (None, 56, 56, 128)       0         \n",
      "                                                                 \n",
      " block3_conv1 (Conv2D)       (None, 56, 56, 256)       295168    \n",
      "                                                                 \n",
      " block3_conv2 (Conv2D)       (None, 56, 56, 256)       590080    \n",
      "                                                                 \n",
      " block3_conv3 (Conv2D)       (None, 56, 56, 256)       590080    \n",
      "                                                                 \n",
      " block3_conv4 (Conv2D)       (None, 56, 56, 256)       590080    \n",
      "                                                                 \n",
      " block3_pool (MaxPooling2D)  (None, 28, 28, 256)       0         \n",
      "                                                                 \n",
      " block4_conv1 (Conv2D)       (None, 28, 28, 512)       1180160   \n",
      "                                                                 \n",
      " block4_conv2 (Conv2D)       (None, 28, 28, 512)       2359808   \n",
      "                                                                 \n",
      " block4_conv3 (Conv2D)       (None, 28, 28, 512)       2359808   \n",
      "                                                                 \n",
      " block4_conv4 (Conv2D)       (None, 28, 28, 512)       2359808   \n",
      "                                                                 \n",
      " block4_pool (MaxPooling2D)  (None, 14, 14, 512)       0         \n",
      "                                                                 \n",
      " block5_conv1 (Conv2D)       (None, 14, 14, 512)       2359808   \n",
      "                                                                 \n",
      " block5_conv2 (Conv2D)       (None, 14, 14, 512)       2359808   \n",
      "                                                                 \n",
      " block5_conv3 (Conv2D)       (None, 14, 14, 512)       2359808   \n",
      "                                                                 \n",
      " block5_conv4 (Conv2D)       (None, 14, 14, 512)       2359808   \n",
      "                                                                 \n",
      " block5_pool (MaxPooling2D)  (None, 7, 7, 512)         0         \n",
      "                                                                 \n",
      " flatten (Flatten)           (None, 25088)             0         \n",
      "                                                                 \n",
      " fc1 (Dense)                 (None, 4096)              102764544 \n",
      "                                                                 \n",
      " fc2 (Dense)                 (None, 4096)              16781312  \n",
      "                                                                 \n",
      " predictions (Dense)         (None, 1000)              4097000   \n",
      "                                                                 \n",
      "=================================================================\n",
      "Total params: 143,667,240\n",
      "Trainable params: 0\n",
      "Non-trainable params: 143,667,240\n",
      "_________________________________________________________________\n"
     ]
    },
    {
     "name": "stderr",
     "output_type": "stream",
     "text": [
      "2023-09-28 19:21:42.657745: I tensorflow/core/grappler/optimizers/custom_graph_optimizer_registry.cc:113] Plugin optimizer for device_type GPU is enabled.\n"
     ]
    },
    {
     "name": "stdout",
     "output_type": "stream",
     "text": [
      "1/1 [==============================] - 1s 671ms/step\n",
      "[[('n02395406', 'hog', 0.14550796), ('n02797295', 'barrow', 0.040324006), ('n03393912', 'freight_car', 0.024490995), ('n02437616', 'llama', 0.02321001), ('n02793495', 'barn', 0.021253262)]]\n"
     ]
    }
   ],
   "source": [
    "import numpy as np\n",
    "import tensorflow as tf\n",
    "import keras\n",
    "from tensorflow.keras import models\n",
    "from tensorflow.keras.utils import load_img\n",
    "from tensorflow.keras.utils import img_to_array\n",
    "from keras.applications.vgg19 import preprocess_input\n",
    "from keras.applications.vgg19 import decode_predictions\n",
    "from keras.applications.vgg19 import VGG19\n",
    "\n",
    "preTrainedModel = VGG19()\n",
    "preTrainedModel.trainable = False\n",
    "preTrainedModel.summary()\n"
   ]
  },
  {
   "cell_type": "markdown",
   "metadata": {},
   "source": [
    "## Check basic VGG19 Classification"
   ]
  },
  {
   "cell_type": "code",
   "execution_count": 218,
   "metadata": {},
   "outputs": [
    {
     "name": "stdout",
     "output_type": "stream",
     "text": [
      "1/1 [==============================] - 0s 97ms/step\n",
      "[[('n04371774', 'swing', 0.16665962), ('n03967562', 'plow', 0.06998367), ('n04208210', 'shovel', 0.067548245), ('n04604644', 'worm_fence', 0.06564355), ('n03141823', 'crutch', 0.04753662)]]\n"
     ]
    }
   ],
   "source": [
    "testPicture = load_img('../noDeerDay.JPG', target_size=(224,224))\n",
    "# Convert Image pixels to a numpy array to be operated on\n",
    "pictureArray = img_to_array(testPicture)\n",
    "# reshape Data for model\n",
    "pictureArray = pictureArray.reshape((1, pictureArray.shape[0], pictureArray.shape[1], pictureArray.shape[2]))\n",
    "# prepare the image for the VGG model\n",
    "pictureArray = preprocess_input(pictureArray)\n",
    "# predict the probability across all output classes\n",
    "yhat = preTrainedModel.predict(pictureArray)\n",
    "# convert the probabilities to class labels\n",
    "labels = decode_predictions(yhat)\n",
    "# retrieve the most likely result, e.g. highest probability\n",
    "label = labels[0][0]\n",
    "# print the classification\n",
    "print(labels)\n",
    "\n"
   ]
  },
  {
   "cell_type": "markdown",
   "metadata": {},
   "source": [
    "## Create complete Model with Custom output Layer"
   ]
  },
  {
   "cell_type": "code",
   "execution_count": 195,
   "metadata": {},
   "outputs": [
    {
     "name": "stdout",
     "output_type": "stream",
     "text": [
      "Model: \"sequential_22\"\n",
      "_________________________________________________________________\n",
      " Layer (type)                Output Shape              Param #   \n",
      "=================================================================\n",
      " vgg19 (Functional)          (None, 1000)              143667240 \n",
      "                                                                 \n",
      " dense_47 (Dense)            (None, 100)               100100    \n",
      "                                                                 \n",
      " dense_48 (Dense)            (None, 2)                 202       \n",
      "                                                                 \n",
      "=================================================================\n",
      "Total params: 143,767,542\n",
      "Trainable params: 100,302\n",
      "Non-trainable params: 143,667,240\n",
      "_________________________________________________________________\n"
     ]
    }
   ],
   "source": [
    "from keras.layers import Dense, Activation, Flatten\n",
    "from tensorflow.keras.optimizers import Adam\n",
    "\n",
    "completeModel = models.Sequential()\n",
    "completeModel.add(preTrainedModel)\n",
    "completeModel.add(Dense(100, activation = \"relu\"))\n",
    "completeModel.add(Dense(2, activation = \"softmax\"))\n",
    "completeModel.summary()\n",
    "completeModel.compile(loss='categorical_crossentropy', optimizer=Adam(lr=0.001), metrics=['accuracy'])\n"
   ]
  },
  {
   "cell_type": "markdown",
   "metadata": {},
   "source": [
    "## Orgainze test and training data"
   ]
  },
  {
   "cell_type": "code",
   "execution_count": 196,
   "metadata": {},
   "outputs": [
    {
     "name": "stdout",
     "output_type": "stream",
     "text": [
      "2841\n",
      "Found 3509 files belonging to 2 classes.\n",
      "Found 305 files belonging to 2 classes.\n"
     ]
    }
   ],
   "source": [
    "trainImages = keras.utils.image_dataset_from_directory( #Takes given directory and automatically organizes it based on subdirectories\n",
    "    directory='trainingData',\n",
    "    labels=\"inferred\",\n",
    "    label_mode='categorical',\n",
    "    batch_size=32,\n",
    "    image_size=(224, 224))\n",
    "testImages = keras.utils.image_dataset_from_directory(\n",
    "    directory='testData',\n",
    "    labels='inferred',\n",
    "    label_mode='categorical',\n",
    "    batch_size=32,\n",
    "    image_size=(224, 224))"
   ]
  },
  {
   "cell_type": "markdown",
   "metadata": {},
   "source": [
    "## Prediction before training"
   ]
  },
  {
   "cell_type": "code",
   "execution_count": 197,
   "metadata": {},
   "outputs": [
    {
     "name": "stderr",
     "output_type": "stream",
     "text": [
      "2023-09-28 19:21:43.992866: I tensorflow/core/grappler/optimizers/custom_graph_optimizer_registry.cc:113] Plugin optimizer for device_type GPU is enabled.\n"
     ]
    },
    {
     "name": "stdout",
     "output_type": "stream",
     "text": [
      "1/1 [==============================] - 1s 625ms/step\n",
      "[[0.49757993 0.50242007]]\n"
     ]
    }
   ],
   "source": [
    "testPicture = load_img('../deerdownload.jpg', target_size=(224,224))\n",
    "pictureArray = img_to_array(testPicture)\n",
    "pictureArray = pictureArray.reshape((1, pictureArray.shape[0], pictureArray.shape[1], pictureArray.shape[2]))\n",
    "pictureArray = preprocess_input(pictureArray)\n",
    "yhat = completeModel.predict(pictureArray)\n",
    "print(yhat)"
   ]
  },
  {
   "cell_type": "markdown",
   "metadata": {},
   "source": [
    "## Train Last two layers"
   ]
  },
  {
   "cell_type": "code",
   "execution_count": 208,
   "metadata": {},
   "outputs": [
    {
     "name": "stdout",
     "output_type": "stream",
     "text": [
      "Epoch 1/20\n"
     ]
    },
    {
     "name": "stdout",
     "output_type": "stream",
     "text": [
      "110/110 [==============================] - 39s 351ms/step - loss: 0.1086 - accuracy: 0.9575\n",
      "Epoch 2/20\n",
      "110/110 [==============================] - 39s 352ms/step - loss: 0.1044 - accuracy: 0.9598\n",
      "Epoch 3/20\n",
      "110/110 [==============================] - 39s 351ms/step - loss: 0.1003 - accuracy: 0.9621\n",
      "Epoch 4/20\n",
      "110/110 [==============================] - 39s 355ms/step - loss: 0.0957 - accuracy: 0.9644\n",
      "Epoch 5/20\n",
      "110/110 [==============================] - 39s 350ms/step - loss: 0.0933 - accuracy: 0.9649\n",
      "Epoch 6/20\n",
      "110/110 [==============================] - 39s 349ms/step - loss: 0.0901 - accuracy: 0.9655\n",
      "Epoch 7/20\n",
      "110/110 [==============================] - 39s 349ms/step - loss: 0.0862 - accuracy: 0.9655\n",
      "Epoch 8/20\n",
      "110/110 [==============================] - 39s 350ms/step - loss: 0.0837 - accuracy: 0.9667\n",
      "Epoch 9/20\n",
      "110/110 [==============================] - 39s 350ms/step - loss: 0.0820 - accuracy: 0.9701\n",
      "Epoch 10/20\n",
      "110/110 [==============================] - 39s 349ms/step - loss: 0.0786 - accuracy: 0.9698\n",
      "Epoch 11/20\n",
      "110/110 [==============================] - 39s 351ms/step - loss: 0.0766 - accuracy: 0.9695\n",
      "Epoch 12/20\n",
      "110/110 [==============================] - 39s 350ms/step - loss: 0.0743 - accuracy: 0.9729\n",
      "Epoch 13/20\n",
      "110/110 [==============================] - 39s 350ms/step - loss: 0.0717 - accuracy: 0.9732\n",
      "Epoch 14/20\n",
      "110/110 [==============================] - 39s 354ms/step - loss: 0.0695 - accuracy: 0.9755\n",
      "Epoch 15/20\n",
      "110/110 [==============================] - 39s 350ms/step - loss: 0.0678 - accuracy: 0.9763\n",
      "Epoch 16/20\n",
      "110/110 [==============================] - 39s 350ms/step - loss: 0.0668 - accuracy: 0.9755\n",
      "Epoch 17/20\n",
      "110/110 [==============================] - 39s 350ms/step - loss: 0.0652 - accuracy: 0.9766\n",
      "Epoch 18/20\n",
      "110/110 [==============================] - 39s 352ms/step - loss: 0.0633 - accuracy: 0.9789\n",
      "Epoch 19/20\n",
      "110/110 [==============================] - 39s 352ms/step - loss: 0.0612 - accuracy: 0.9795\n",
      "Epoch 20/20\n",
      "110/110 [==============================] - 39s 352ms/step - loss: 0.0594 - accuracy: 0.9812\n"
     ]
    },
    {
     "data": {
      "text/plain": [
       "<keras.callbacks.History at 0x384aff4f0>"
      ]
     },
     "execution_count": 208,
     "metadata": {},
     "output_type": "execute_result"
    }
   ],
   "source": [
    "completeModel.fit(trainImages, epochs=20, batch_size=100)"
   ]
  },
  {
   "cell_type": "markdown",
   "metadata": {},
   "source": [
    "## Test Some data"
   ]
  },
  {
   "cell_type": "code",
   "execution_count": 209,
   "metadata": {},
   "outputs": [
    {
     "name": "stdout",
     "output_type": "stream",
     "text": [
      "10/10 [==============================] - 4s 338ms/step - loss: 0.5413 - accuracy: 0.8820\n",
      "loss =  0.5412991642951965\n",
      "accuracy =  0.8819671869277954\n"
     ]
    }
   ],
   "source": [
    "score = completeModel.evaluate(testImages)\n",
    "print (\"loss = \", score[0])\n",
    "print (\"accuracy = \", score[1])"
   ]
  },
  {
   "cell_type": "markdown",
   "metadata": {},
   "source": [
    "## See what happens with a deer image"
   ]
  },
  {
   "cell_type": "code",
   "execution_count": 217,
   "metadata": {},
   "outputs": [
    {
     "name": "stdout",
     "output_type": "stream",
     "text": [
      "1/1 [==============================] - 0s 16ms/step\n",
      "[[0.98900723 0.01099278]]\n"
     ]
    }
   ],
   "source": [
    "testPicture = load_img('../deerdownload.jpg', target_size=(224,224))\n",
    "pictureArray = img_to_array(testPicture)\n",
    "pictureArray = pictureArray.reshape((1, pictureArray.shape[0], pictureArray.shape[1], pictureArray.shape[2]))\n",
    "pictureArray = preprocess_input(pictureArray)\n",
    "yhat = completeModel.predict(pictureArray)\n",
    "print(yhat)\n",
    "\n",
    "\n",
    "# 0 is deer 1 is no deer, i need to figure out how to change this"
   ]
  },
  {
   "cell_type": "markdown",
   "metadata": {},
   "source": [
    "## Save the model for export"
   ]
  },
  {
   "cell_type": "code",
   "execution_count": null,
   "metadata": {},
   "outputs": [],
   "source": [
    "completeModel.save(\"alphaModel.keras\")"
   ]
  }
 ],
 "metadata": {
  "kernelspec": {
   "display_name": "Python 3.10 (tensorflow)",
   "language": "python",
   "name": "tensorflow"
  },
  "language_info": {
   "codemirror_mode": {
    "name": "ipython",
    "version": 3
   },
   "file_extension": ".py",
   "mimetype": "text/x-python",
   "name": "python",
   "nbconvert_exporter": "python",
   "pygments_lexer": "ipython3",
   "version": "3.10.9"
  },
  "orig_nbformat": 4
 },
 "nbformat": 4,
 "nbformat_minor": 2
}
