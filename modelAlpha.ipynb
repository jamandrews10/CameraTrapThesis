{
 "cells": [
  {
   "cell_type": "markdown",
   "metadata": {},
   "source": [
    "# Camera Trap Processing Thesis\n",
    "\n",
    "Author: Jameson Andrews\\\n",
    "EDITS:\\\n",
    "09/13/2023, Initial Creation, Jameson"
   ]
  },
  {
   "cell_type": "markdown",
   "metadata": {},
   "source": [
    "## Load model"
   ]
  },
  {
   "cell_type": "code",
   "execution_count": 81,
   "metadata": {},
   "outputs": [
    {
     "name": "stdout",
     "output_type": "stream",
     "text": [
      "Model: \"vgg19\"\n",
      "_________________________________________________________________\n",
      " Layer (type)                Output Shape              Param #   \n",
      "=================================================================\n",
      " input_25 (InputLayer)       [(None, 224, 224, 3)]     0         \n",
      "                                                                 \n",
      " block1_conv1 (Conv2D)       (None, 224, 224, 64)      1792      \n",
      "                                                                 \n",
      " block1_conv2 (Conv2D)       (None, 224, 224, 64)      36928     \n",
      "                                                                 \n",
      " block1_pool (MaxPooling2D)  (None, 112, 112, 64)      0         \n",
      "                                                                 \n",
      " block2_conv1 (Conv2D)       (None, 112, 112, 128)     73856     \n",
      "                                                                 \n",
      " block2_conv2 (Conv2D)       (None, 112, 112, 128)     147584    \n",
      "                                                                 \n",
      " block2_pool (MaxPooling2D)  (None, 56, 56, 128)       0         \n",
      "                                                                 \n",
      " block3_conv1 (Conv2D)       (None, 56, 56, 256)       295168    \n",
      "                                                                 \n",
      " block3_conv2 (Conv2D)       (None, 56, 56, 256)       590080    \n",
      "                                                                 \n",
      " block3_conv3 (Conv2D)       (None, 56, 56, 256)       590080    \n",
      "                                                                 \n",
      " block3_conv4 (Conv2D)       (None, 56, 56, 256)       590080    \n",
      "                                                                 \n",
      " block3_pool (MaxPooling2D)  (None, 28, 28, 256)       0         \n",
      "                                                                 \n",
      " block4_conv1 (Conv2D)       (None, 28, 28, 512)       1180160   \n",
      "                                                                 \n",
      " block4_conv2 (Conv2D)       (None, 28, 28, 512)       2359808   \n",
      "                                                                 \n",
      " block4_conv3 (Conv2D)       (None, 28, 28, 512)       2359808   \n",
      "                                                                 \n",
      " block4_conv4 (Conv2D)       (None, 28, 28, 512)       2359808   \n",
      "                                                                 \n",
      " block4_pool (MaxPooling2D)  (None, 14, 14, 512)       0         \n",
      "                                                                 \n",
      " block5_conv1 (Conv2D)       (None, 14, 14, 512)       2359808   \n",
      "                                                                 \n",
      " block5_conv2 (Conv2D)       (None, 14, 14, 512)       2359808   \n",
      "                                                                 \n",
      " block5_conv3 (Conv2D)       (None, 14, 14, 512)       2359808   \n",
      "                                                                 \n",
      " block5_conv4 (Conv2D)       (None, 14, 14, 512)       2359808   \n",
      "                                                                 \n",
      " block5_pool (MaxPooling2D)  (None, 7, 7, 512)         0         \n",
      "                                                                 \n",
      " flatten (Flatten)           (None, 25088)             0         \n",
      "                                                                 \n",
      " fc1 (Dense)                 (None, 4096)              102764544 \n",
      "                                                                 \n",
      " fc2 (Dense)                 (None, 4096)              16781312  \n",
      "                                                                 \n",
      " predictions (Dense)         (None, 1000)              4097000   \n",
      "                                                                 \n",
      "=================================================================\n",
      "Total params: 143,667,240\n",
      "Trainable params: 0\n",
      "Non-trainable params: 143,667,240\n",
      "_________________________________________________________________\n"
     ]
    },
    {
     "name": "stderr",
     "output_type": "stream",
     "text": [
      "2023-09-26 15:19:45.439408: I tensorflow/core/grappler/optimizers/custom_graph_optimizer_registry.cc:113] Plugin optimizer for device_type GPU is enabled.\n"
     ]
    },
    {
     "name": "stdout",
     "output_type": "stream",
     "text": [
      "1/1 [==============================] - 0s 330ms/step\n",
      "[[('n02395406', 'hog', 0.14550796), ('n02797295', 'barrow', 0.040324006), ('n03393912', 'freight_car', 0.024490995), ('n02437616', 'llama', 0.02321001), ('n02793495', 'barn', 0.021253262)]]\n"
     ]
    }
   ],
   "source": [
    "import numpy as np\n",
    "import tensorflow as tf\n",
    "import keras\n",
    "from tensorflow.keras import models\n",
    "from tensorflow.keras.utils import load_img\n",
    "from tensorflow.keras.utils import img_to_array\n",
    "from keras.applications.vgg19 import preprocess_input\n",
    "from keras.applications.vgg19 import decode_predictions\n",
    "from keras.applications.vgg19 import VGG19\n",
    "\n",
    "testPicture = load_img('../deerNight.jpg', target_size=(224,224))\n",
    "pictureArray = img_to_array(testPicture)\n",
    "# print (pictureArray.shape)\n",
    "pictureArray = pictureArray.reshape((1, pictureArray.shape[0], pictureArray.shape[1], pictureArray.shape[2]))\n",
    "pictureArray = preprocess_input(pictureArray)\n",
    "\n",
    "model = VGG19()\n",
    "model.trainable = False\n",
    "model.summary()\n",
    "\n",
    "# predict the probability across all output classes\n",
    "yhat = model.predict(pictureArray)\n",
    "# ynew = completeModel.predict_classes(pictureArray)\n",
    "# convert the probabilities to class labels\n",
    "labels = decode_predictions(yhat)\n",
    "# retrieve the most likely result, e.g. highest probability\n",
    "label = labels[0][0]\n",
    "# print the classification\n",
    "print(labels)\n"
   ]
  },
  {
   "cell_type": "markdown",
   "metadata": {},
   "source": [
    "## Try with a different input shape"
   ]
  },
  {
   "cell_type": "code",
   "execution_count": 82,
   "metadata": {},
   "outputs": [
    {
     "name": "stdout",
     "output_type": "stream",
     "text": [
      "Model: \"vgg19\"\n",
      "_________________________________________________________________\n",
      " Layer (type)                Output Shape              Param #   \n",
      "=================================================================\n",
      " input_26 (InputLayer)       [(None, 2592, 4608, 3)]   0         \n",
      "                                                                 \n",
      " block1_conv1 (Conv2D)       (None, 2592, 4608, 64)    1792      \n",
      "                                                                 \n",
      " block1_conv2 (Conv2D)       (None, 2592, 4608, 64)    36928     \n",
      "                                                                 \n",
      " block1_pool (MaxPooling2D)  (None, 1296, 2304, 64)    0         \n",
      "                                                                 \n",
      " block2_conv1 (Conv2D)       (None, 1296, 2304, 128)   73856     \n",
      "                                                                 \n",
      " block2_conv2 (Conv2D)       (None, 1296, 2304, 128)   147584    \n",
      "                                                                 \n",
      " block2_pool (MaxPooling2D)  (None, 648, 1152, 128)    0         \n",
      "                                                                 \n",
      " block3_conv1 (Conv2D)       (None, 648, 1152, 256)    295168    \n",
      "                                                                 \n",
      " block3_conv2 (Conv2D)       (None, 648, 1152, 256)    590080    \n",
      "                                                                 \n",
      " block3_conv3 (Conv2D)       (None, 648, 1152, 256)    590080    \n",
      "                                                                 \n",
      " block3_conv4 (Conv2D)       (None, 648, 1152, 256)    590080    \n",
      "                                                                 \n",
      " block3_pool (MaxPooling2D)  (None, 324, 576, 256)     0         \n",
      "                                                                 \n",
      " block4_conv1 (Conv2D)       (None, 324, 576, 512)     1180160   \n",
      "                                                                 \n",
      " block4_conv2 (Conv2D)       (None, 324, 576, 512)     2359808   \n",
      "                                                                 \n",
      " block4_conv3 (Conv2D)       (None, 324, 576, 512)     2359808   \n",
      "                                                                 \n",
      " block4_conv4 (Conv2D)       (None, 324, 576, 512)     2359808   \n",
      "                                                                 \n",
      " block4_pool (MaxPooling2D)  (None, 162, 288, 512)     0         \n",
      "                                                                 \n",
      " block5_conv1 (Conv2D)       (None, 162, 288, 512)     2359808   \n",
      "                                                                 \n",
      " block5_conv2 (Conv2D)       (None, 162, 288, 512)     2359808   \n",
      "                                                                 \n",
      " block5_conv3 (Conv2D)       (None, 162, 288, 512)     2359808   \n",
      "                                                                 \n",
      " block5_conv4 (Conv2D)       (None, 162, 288, 512)     2359808   \n",
      "                                                                 \n",
      " block5_pool (MaxPooling2D)  (None, 81, 144, 512)      0         \n",
      "                                                                 \n",
      " global_max_pooling2d_2 (Glo  (None, 512)              0         \n",
      " balMaxPooling2D)                                                \n",
      "                                                                 \n",
      "=================================================================\n",
      "Total params: 20,024,384\n",
      "Trainable params: 0\n",
      "Non-trainable params: 20,024,384\n",
      "_________________________________________________________________\n"
     ]
    }
   ],
   "source": [
    "# testPicture = load_img('../deerdownload.jpg', target_size=(2592, 4608))\n",
    "# testPicture = load_img('../DeerNight.jpg')\n",
    "testPicture = load_img('../noDeerDay.JPG', target_size=(224,224))\n",
    "pictureArray = img_to_array(testPicture)\n",
    "# print (pictureArray.shape)\n",
    "pictureArray = pictureArray.reshape((1, pictureArray.shape[0], pictureArray.shape[1], pictureArray.shape[2]))\n",
    "pictureArray = preprocess_input(pictureArray)\n",
    "\n",
    "\n",
    "\n",
    "# load model and specify a new input shape for images\n",
    "new_input = keras.Input(shape=(2592, 4608, 3))\n",
    "newModel = VGG19(include_top=False, input_tensor=new_input, pooling=\"max\")\n",
    "newModel.trainable = False\n",
    "newModel.summary()\n",
    "\n"
   ]
  },
  {
   "cell_type": "markdown",
   "metadata": {},
   "source": [
    "## Create new Output layer"
   ]
  },
  {
   "cell_type": "code",
   "execution_count": 115,
   "metadata": {},
   "outputs": [
    {
     "name": "stdout",
     "output_type": "stream",
     "text": [
      "Model: \"sequential_16\"\n",
      "_________________________________________________________________\n",
      " Layer (type)                Output Shape              Param #   \n",
      "=================================================================\n",
      " vgg19 (Functional)          (None, 1000)              143667240 \n",
      "                                                                 \n",
      " dense_35 (Dense)            (None, 100)               100100    \n",
      "                                                                 \n",
      " dense_36 (Dense)            (None, 2)                 202       \n",
      "                                                                 \n",
      "=================================================================\n",
      "Total params: 143,767,542\n",
      "Trainable params: 100,302\n",
      "Non-trainable params: 143,667,240\n",
      "_________________________________________________________________\n"
     ]
    },
    {
     "name": "stderr",
     "output_type": "stream",
     "text": [
      "/Users/jamesonandrews/opt/anaconda3/envs/tensorflow/lib/python3.10/site-packages/keras/optimizers/optimizer_v2/adam.py:110: UserWarning: The `lr` argument is deprecated, use `learning_rate` instead.\n",
      "  super(Adam, self).__init__(name, **kwargs)\n"
     ]
    }
   ],
   "source": [
    "from keras.layers import Dense, Activation, Flatten\n",
    "from tensorflow.keras.optimizers import Adam\n",
    "\n",
    "completeModel = models.Sequential()\n",
    "completeModel.add(model)\n",
    "# Flatten if using newModel\n",
    "# completeModel.add(Flatten())\n",
    "# completeModel.add(Dense(200, activation = \"relu\"))\n",
    "completeModel.add(Dense(100, activation = \"relu\"))\n",
    "completeModel.add(Dense(2, activation = \"softmax\"))\n",
    "completeModel.summary()\n",
    "completeModel.compile(loss='binary_crossentropy', optimizer=Adam(lr=0.001), metrics=['accuracy'])\n"
   ]
  },
  {
   "cell_type": "markdown",
   "metadata": {},
   "source": [
    "## Orgainze test and training data"
   ]
  },
  {
   "cell_type": "code",
   "execution_count": 116,
   "metadata": {},
   "outputs": [
    {
     "name": "stdout",
     "output_type": "stream",
     "text": [
      "Found 2841 files belonging to 2 classes.\n",
      "Found 316 files belonging to 2 classes.\n"
     ]
    }
   ],
   "source": [
    "trainImages = keras.utils.image_dataset_from_directory(\n",
    "    directory='trainingData',\n",
    "    labels='inferred',\n",
    "    label_mode='categorical',\n",
    "    batch_size=32,\n",
    "    image_size=(224, 224))\n",
    "testImages = keras.utils.image_dataset_from_directory(\n",
    "    directory='testData',\n",
    "    labels='inferred',\n",
    "    label_mode='categorical',\n",
    "    batch_size=32,\n",
    "    image_size=(224, 224))"
   ]
  },
  {
   "cell_type": "markdown",
   "metadata": {},
   "source": [
    "## Prediction before training"
   ]
  },
  {
   "cell_type": "code",
   "execution_count": 117,
   "metadata": {},
   "outputs": [
    {
     "name": "stderr",
     "output_type": "stream",
     "text": [
      "2023-09-26 16:07:23.425151: I tensorflow/core/grappler/optimizers/custom_graph_optimizer_registry.cc:113] Plugin optimizer for device_type GPU is enabled.\n"
     ]
    },
    {
     "name": "stdout",
     "output_type": "stream",
     "text": [
      "1/1 [==============================] - 0s 346ms/step\n",
      "[[0.49757993 0.50242007]]\n"
     ]
    }
   ],
   "source": [
    "testPicture = load_img('../deerdownload.jpg', target_size=(224,224))\n",
    "# testPicture = load_img('../DeerNight.jpg', target_size=(224,224))\n",
    "# testPicture = load_img('../noDeerDay.JPG', target_size=(224,224))\n",
    "# testPicture = load_img('../city.jpeg', target_size=(224,224))\n",
    "\n",
    "pictureArray = img_to_array(testPicture)\n",
    "# reshape data for the model\n",
    "pictureArray = pictureArray.reshape((1, pictureArray.shape[0], pictureArray.shape[1], pictureArray.shape[2]))\n",
    "# prepare the image for the VGG model\n",
    "pictureArray = preprocess_input(pictureArray)\n",
    "# load the model\n",
    "\n",
    "# predict the probability across all output classes\n",
    "yhat = completeModel.predict(pictureArray)\n",
    "print(yhat)"
   ]
  },
  {
   "cell_type": "markdown",
   "metadata": {},
   "source": [
    "## Train Last two layers"
   ]
  },
  {
   "cell_type": "code",
   "execution_count": 118,
   "metadata": {},
   "outputs": [
    {
     "name": "stdout",
     "output_type": "stream",
     "text": [
      "Epoch 1/5\n"
     ]
    },
    {
     "name": "stderr",
     "output_type": "stream",
     "text": [
      "2023-09-26 16:07:31.659108: I tensorflow/core/grappler/optimizers/custom_graph_optimizer_registry.cc:113] Plugin optimizer for device_type GPU is enabled.\n"
     ]
    },
    {
     "name": "stdout",
     "output_type": "stream",
     "text": [
      "89/89 [==============================] - 34s 368ms/step - loss: 0.6228 - accuracy: 0.6758\n",
      "Epoch 2/5\n",
      "89/89 [==============================] - 33s 367ms/step - loss: 0.4811 - accuracy: 0.7670\n",
      "Epoch 3/5\n",
      "89/89 [==============================] - 33s 366ms/step - loss: 0.3747 - accuracy: 0.8705\n",
      "Epoch 4/5\n",
      "89/89 [==============================] - 33s 367ms/step - loss: 0.3208 - accuracy: 0.8888\n",
      "Epoch 5/5\n",
      "89/89 [==============================] - 33s 368ms/step - loss: 0.2870 - accuracy: 0.8962\n"
     ]
    },
    {
     "data": {
      "text/plain": [
       "<keras.callbacks.History at 0x15d0ced70>"
      ]
     },
     "execution_count": 118,
     "metadata": {},
     "output_type": "execute_result"
    }
   ],
   "source": [
    "completeModel.fit(trainImages, epochs=5, batch_size=10)"
   ]
  },
  {
   "cell_type": "markdown",
   "metadata": {},
   "source": [
    "## Test Some data"
   ]
  },
  {
   "cell_type": "code",
   "execution_count": 119,
   "metadata": {},
   "outputs": [
    {
     "name": "stderr",
     "output_type": "stream",
     "text": [
      "2023-09-26 16:10:30.525423: I tensorflow/core/grappler/optimizers/custom_graph_optimizer_registry.cc:113] Plugin optimizer for device_type GPU is enabled.\n"
     ]
    },
    {
     "name": "stdout",
     "output_type": "stream",
     "text": [
      "10/10 [==============================] - 5s 356ms/step - loss: 0.9580 - accuracy: 0.4937\n",
      "loss =  0.9580318927764893\n",
      "accuracy =  0.49367091059684753\n"
     ]
    }
   ],
   "source": [
    "score = completeModel.evaluate(testImages)\n",
    "print (\"loss = \", score[0])\n",
    "print (\"accuracy = \", score[1])"
   ]
  },
  {
   "cell_type": "markdown",
   "metadata": {},
   "source": [
    "## See what happens with a deer image"
   ]
  },
  {
   "cell_type": "code",
   "execution_count": 141,
   "metadata": {},
   "outputs": [
    {
     "name": "stdout",
     "output_type": "stream",
     "text": [
      "1/1 [==============================] - 0s 25ms/step\n",
      "[[0.0162286 0.9837714]]\n"
     ]
    }
   ],
   "source": [
    "# testPicture = load_img('../deerdownload.jpg', target_size=(224,224))\n",
    "# testPicture = load_img('../DeerNight.jpg', target_size=(224,224))\n",
    "# testPicture = load_img('../noDeerDay.JPG', target_size=(224,224))\n",
    "# testPicture = load_img('../city.jpeg', target_size=(224,224))\n",
    "testPicture = load_img('./testData/NotDeerTest/467.jpg', target_size=(224,224))\n",
    "# testPicture = load_img('./testData/deerTest/1749.jpg', target_size=(224,224))\n",
    "\n",
    "pictureArray = img_to_array(testPicture)\n",
    "# reshape data for the model\n",
    "pictureArray = pictureArray.reshape((1, pictureArray.shape[0], pictureArray.shape[1], pictureArray.shape[2]))\n",
    "# prepare the image for the VGG model\n",
    "pictureArray = preprocess_input(pictureArray)\n",
    "# load the model\n",
    "\n",
    "# predict the probability across all output classes\n",
    "yhat = completeModel.predict(pictureArray)\n",
    "# ynew = completeModel.predict_classes(pictureArray)\n",
    "# convert the probabilities to class labels\n",
    "# labels = decode_predictions(yhat)\n",
    "# retrieve the most likely result, e.g. highest probability\n",
    "# label = labels[0][0]\n",
    "# print the classification\n",
    "print(yhat)\n",
    "\n",
    "# completeModel.save(\"alphaModel.keras\")\n",
    "\n",
    "\n",
    "\n",
    "# 0 is deer 1 is no deer, i need to figure out how to change this"
   ]
  },
  {
   "cell_type": "code",
   "execution_count": null,
   "metadata": {},
   "outputs": [],
   "source": []
  }
 ],
 "metadata": {
  "kernelspec": {
   "display_name": "Python 3.10 (tensorflow)",
   "language": "python",
   "name": "tensorflow"
  },
  "language_info": {
   "codemirror_mode": {
    "name": "ipython",
    "version": 3
   },
   "file_extension": ".py",
   "mimetype": "text/x-python",
   "name": "python",
   "nbconvert_exporter": "python",
   "pygments_lexer": "ipython3",
   "version": "3.10.9"
  },
  "orig_nbformat": 4
 },
 "nbformat": 4,
 "nbformat_minor": 2
}
