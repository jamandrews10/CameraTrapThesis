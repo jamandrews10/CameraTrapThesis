{
 "cells": [
  {
   "cell_type": "markdown",
   "metadata": {},
   "source": [
    "# Camera Trap Processing Thesis\n",
    "\n",
    "Author: Jameson Andrews\\\n",
    "EDITS:\\\n",
    "09/13/2023, Initial Creation, Jameson"
   ]
  },
  {
   "cell_type": "code",
   "execution_count": 2,
   "metadata": {},
   "outputs": [
    {
     "name": "stdout",
     "output_type": "stream",
     "text": [
      "(224, 224, 3)\n",
      "(1, 224, 224, 3)\n",
      "1/1 [==============================] - 0s 257ms/step\n",
      "[[('n02423022', 'gazelle', 0.48618394), ('n02422699', 'impala', 0.46274015), ('n02422106', 'hartebeest', 0.037680887), ('n02417914', 'ibex', 0.0043102438), ('n02115913', 'dhole', 0.00299825)]]\n"
     ]
    },
    {
     "name": "stderr",
     "output_type": "stream",
     "text": [
      "2023-09-18 12:06:22.245453: I tensorflow/core/grappler/optimizers/custom_graph_optimizer_registry.cc:113] Plugin optimizer for device_type GPU is enabled.\n"
     ]
    }
   ],
   "source": [
    "import numpy as np\n",
    "import tensorflow as tf\n",
    "import keras\n",
    "from tensorflow.keras.utils import load_img\n",
    "from tensorflow.keras.utils import img_to_array\n",
    "from keras.applications.vgg19 import preprocess_input\n",
    "from keras.applications.vgg19 import decode_predictions\n",
    "from keras.applications.vgg19 import VGG19\n",
    "\n",
    "# from PIL import Image\n",
    "# baseheight = 224\n",
    "# img = Image.open(\"../deerdownload.JPG\")\n",
    "# width = 224\n",
    "# img = img.resize((width, baseheight), Image.LANCZOS)\n",
    "# img.save('../resizedDeerDownload.jpg')\n",
    "\n",
    "\n",
    "testPicture = load_img('../deerdownload.jpg')\n",
    "pictureArray = img_to_array(testPicture)\n",
    "# reshape data for the model\n",
    "print(pictureArray.shape)\n",
    "pictureArray = pictureArray.reshape((1, pictureArray.shape[0], pictureArray.shape[1], pictureArray.shape[2]))\n",
    "print(pictureArray.shape)\n",
    "# prepare the image for the VGG model\n",
    "pictureArray = preprocess_input(pictureArray)\n",
    "# load the model\n",
    "model = VGG19()\n",
    "# predict the probability across all output classes\n",
    "yhat = model.predict(pictureArray)\n",
    "# convert the probabilities to class labels\n",
    "labels = decode_predictions(yhat)\n",
    "# retrieve the most likely result, e.g. highest probability\n",
    "label = labels[0][0]\n",
    "# print the classification\n",
    "print(labels)"
   ]
  }
 ],
 "metadata": {
  "kernelspec": {
   "display_name": "Python 3.10 (tensorflow)",
   "language": "python",
   "name": "tensorflow"
  },
  "language_info": {
   "codemirror_mode": {
    "name": "ipython",
    "version": 3
   },
   "file_extension": ".py",
   "mimetype": "text/x-python",
   "name": "python",
   "nbconvert_exporter": "python",
   "pygments_lexer": "ipython3",
   "version": "3.10.9"
  },
  "orig_nbformat": 4
 },
 "nbformat": 4,
 "nbformat_minor": 2
}
