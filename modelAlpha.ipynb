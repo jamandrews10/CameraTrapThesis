{
 "cells": [
  {
   "cell_type": "markdown",
   "metadata": {},
   "source": [
    "# Camera Trap Processing Thesis\n",
    "\n",
    "Author: Jameson Andrews\\\n",
    "EDITS:\\\n",
    "09/13/2023, Initial Creation, Jameson"
   ]
  },
  {
   "cell_type": "markdown",
   "metadata": {},
   "source": [
    "## Load model"
   ]
  },
  {
   "cell_type": "code",
   "execution_count": 9,
   "metadata": {},
   "outputs": [
    {
     "name": "stdout",
     "output_type": "stream",
     "text": [
      "Model: \"vgg19\"\n",
      "_________________________________________________________________\n",
      " Layer (type)                Output Shape              Param #   \n",
      "=================================================================\n",
      " input_2 (InputLayer)        [(None, 224, 224, 3)]     0         \n",
      "                                                                 \n",
      " block1_conv1 (Conv2D)       (None, 224, 224, 64)      1792      \n",
      "                                                                 \n",
      " block1_conv2 (Conv2D)       (None, 224, 224, 64)      36928     \n",
      "                                                                 \n",
      " block1_pool (MaxPooling2D)  (None, 112, 112, 64)      0         \n",
      "                                                                 \n",
      " block2_conv1 (Conv2D)       (None, 112, 112, 128)     73856     \n",
      "                                                                 \n",
      " block2_conv2 (Conv2D)       (None, 112, 112, 128)     147584    \n",
      "                                                                 \n",
      " block2_pool (MaxPooling2D)  (None, 56, 56, 128)       0         \n",
      "                                                                 \n",
      " block3_conv1 (Conv2D)       (None, 56, 56, 256)       295168    \n",
      "                                                                 \n",
      " block3_conv2 (Conv2D)       (None, 56, 56, 256)       590080    \n",
      "                                                                 \n",
      " block3_conv3 (Conv2D)       (None, 56, 56, 256)       590080    \n",
      "                                                                 \n",
      " block3_conv4 (Conv2D)       (None, 56, 56, 256)       590080    \n",
      "                                                                 \n",
      " block3_pool (MaxPooling2D)  (None, 28, 28, 256)       0         \n",
      "                                                                 \n",
      " block4_conv1 (Conv2D)       (None, 28, 28, 512)       1180160   \n",
      "                                                                 \n",
      " block4_conv2 (Conv2D)       (None, 28, 28, 512)       2359808   \n",
      "                                                                 \n",
      " block4_conv3 (Conv2D)       (None, 28, 28, 512)       2359808   \n",
      "                                                                 \n",
      " block4_conv4 (Conv2D)       (None, 28, 28, 512)       2359808   \n",
      "                                                                 \n",
      " block4_pool (MaxPooling2D)  (None, 14, 14, 512)       0         \n",
      "                                                                 \n",
      " block5_conv1 (Conv2D)       (None, 14, 14, 512)       2359808   \n",
      "                                                                 \n",
      " block5_conv2 (Conv2D)       (None, 14, 14, 512)       2359808   \n",
      "                                                                 \n",
      " block5_conv3 (Conv2D)       (None, 14, 14, 512)       2359808   \n",
      "                                                                 \n",
      " block5_conv4 (Conv2D)       (None, 14, 14, 512)       2359808   \n",
      "                                                                 \n",
      " block5_pool (MaxPooling2D)  (None, 7, 7, 512)         0         \n",
      "                                                                 \n",
      " flatten (Flatten)           (None, 25088)             0         \n",
      "                                                                 \n",
      " fc1 (Dense)                 (None, 4096)              102764544 \n",
      "                                                                 \n",
      " fc2 (Dense)                 (None, 4096)              16781312  \n",
      "                                                                 \n",
      " predictions (Dense)         (None, 1000)              4097000   \n",
      "                                                                 \n",
      "=================================================================\n",
      "Total params: 143,667,240\n",
      "Trainable params: 0\n",
      "Non-trainable params: 143,667,240\n",
      "_________________________________________________________________\n"
     ]
    }
   ],
   "source": [
    "import numpy as np\n",
    "import tensorflow as tf\n",
    "import keras\n",
    "from tensorflow.keras import models\n",
    "from tensorflow.keras.utils import load_img\n",
    "from tensorflow.keras.utils import img_to_array\n",
    "from keras.applications.vgg19 import preprocess_input\n",
    "from keras.applications.vgg19 import decode_predictions\n",
    "from keras.applications.vgg19 import VGG19\n",
    "\n",
    "preTrainedModel = VGG19()\n",
    "preTrainedModel.trainable = False\n",
    "preTrainedModel.summary()\n"
   ]
  },
  {
   "cell_type": "markdown",
   "metadata": {},
   "source": [
    "## Check basic VGG19 Classification"
   ]
  },
  {
   "cell_type": "code",
   "execution_count": 10,
   "metadata": {},
   "outputs": [
    {
     "name": "stdout",
     "output_type": "stream",
     "text": [
      "1/1 [==============================] - 0s 200ms/step\n",
      "[[('n04371774', 'swing', 0.16665962), ('n03967562', 'plow', 0.06998367), ('n04208210', 'shovel', 0.067548245), ('n04604644', 'worm_fence', 0.06564355), ('n03141823', 'crutch', 0.04753662)]]\n"
     ]
    },
    {
     "name": "stderr",
     "output_type": "stream",
     "text": [
      "2023-10-02 20:28:18.876890: I tensorflow/core/grappler/optimizers/custom_graph_optimizer_registry.cc:113] Plugin optimizer for device_type GPU is enabled.\n"
     ]
    }
   ],
   "source": [
    "testPicture = load_img('../noDeerDay.JPG', target_size=(224,224))\n",
    "# Convert Image pixels to a numpy array to be operated on\n",
    "pictureArray = img_to_array(testPicture)\n",
    "# reshape Data for model\n",
    "pictureArray = pictureArray.reshape((1, pictureArray.shape[0], pictureArray.shape[1], pictureArray.shape[2]))\n",
    "# prepare the image for the VGG model\n",
    "pictureArray = preprocess_input(pictureArray)\n",
    "# predict the probability across all output classes\n",
    "yhat = preTrainedModel.predict(pictureArray)\n",
    "# convert the probabilities to class labels\n",
    "labels = decode_predictions(yhat)\n",
    "# retrieve the most likely result, e.g. highest probability\n",
    "label = labels[0][0]\n",
    "# print the classification\n",
    "print(labels)\n",
    "\n"
   ]
  },
  {
   "cell_type": "markdown",
   "metadata": {},
   "source": [
    "## Create complete Model with Custom output Layer"
   ]
  },
  {
   "cell_type": "code",
   "execution_count": 11,
   "metadata": {},
   "outputs": [
    {
     "name": "stdout",
     "output_type": "stream",
     "text": [
      "Model: \"sequential_1\"\n",
      "_________________________________________________________________\n",
      " Layer (type)                Output Shape              Param #   \n",
      "=================================================================\n",
      " vgg19 (Functional)          (None, 1000)              143667240 \n",
      "                                                                 \n",
      " dense_2 (Dense)             (None, 100)               100100    \n",
      "                                                                 \n",
      " dense_3 (Dense)             (None, 2)                 202       \n",
      "                                                                 \n",
      "=================================================================\n",
      "Total params: 143,767,542\n",
      "Trainable params: 100,302\n",
      "Non-trainable params: 143,667,240\n",
      "_________________________________________________________________\n"
     ]
    }
   ],
   "source": [
    "from keras.layers import Dense, Activation, Flatten\n",
    "from tensorflow.keras.optimizers import Adam\n",
    "\n",
    "completeModel = models.Sequential()\n",
    "completeModel.add(preTrainedModel)\n",
    "completeModel.add(Dense(100, activation = \"relu\"))\n",
    "completeModel.add(Dense(2, activation = \"softmax\"))\n",
    "completeModel.summary()\n",
    "completeModel.compile(loss='categorical_crossentropy', optimizer=Adam(lr=0.001), metrics=['accuracy'])\n"
   ]
  },
  {
   "cell_type": "markdown",
   "metadata": {},
   "source": [
    "## Orgainze test and training data"
   ]
  },
  {
   "cell_type": "code",
   "execution_count": 12,
   "metadata": {},
   "outputs": [
    {
     "name": "stdout",
     "output_type": "stream",
     "text": [
      "Found 3509 files belonging to 2 classes.\n",
      "Found 305 files belonging to 2 classes.\n"
     ]
    }
   ],
   "source": [
    "trainImages = keras.utils.image_dataset_from_directory( #Takes given directory and automatically organizes it based on subdirectories\n",
    "    directory='trainingData',\n",
    "    labels=\"inferred\",\n",
    "    label_mode='categorical',\n",
    "    batch_size=32,\n",
    "    image_size=(224, 224))\n",
    "testImages = keras.utils.image_dataset_from_directory(\n",
    "    directory='testData',\n",
    "    labels='inferred',\n",
    "    label_mode='categorical',\n",
    "    batch_size=32,\n",
    "    image_size=(224, 224))"
   ]
  },
  {
   "cell_type": "markdown",
   "metadata": {},
   "source": [
    "## Prediction before training"
   ]
  },
  {
   "cell_type": "code",
   "execution_count": 13,
   "metadata": {},
   "outputs": [
    {
     "name": "stdout",
     "output_type": "stream",
     "text": [
      "1/1 [==============================] - 0s 204ms/step\n",
      "[[0.49757993 0.50242007]]\n"
     ]
    },
    {
     "name": "stderr",
     "output_type": "stream",
     "text": [
      "2023-10-02 20:28:19.403683: I tensorflow/core/grappler/optimizers/custom_graph_optimizer_registry.cc:113] Plugin optimizer for device_type GPU is enabled.\n"
     ]
    }
   ],
   "source": [
    "testPicture = load_img('../deerdownload.jpg', target_size=(224,224))\n",
    "pictureArray = img_to_array(testPicture)\n",
    "pictureArray = pictureArray.reshape((1, pictureArray.shape[0], pictureArray.shape[1], pictureArray.shape[2]))\n",
    "pictureArray = preprocess_input(pictureArray)\n",
    "yhat = completeModel.predict(pictureArray)\n",
    "print(yhat)"
   ]
  },
  {
   "cell_type": "markdown",
   "metadata": {},
   "source": [
    "## Train Last two layers"
   ]
  },
  {
   "cell_type": "code",
   "execution_count": 14,
   "metadata": {},
   "outputs": [
    {
     "name": "stdout",
     "output_type": "stream",
     "text": [
      "Epoch 1/20\n"
     ]
    },
    {
     "name": "stderr",
     "output_type": "stream",
     "text": [
      "2023-10-02 20:28:19.857083: I tensorflow/core/grappler/optimizers/custom_graph_optimizer_registry.cc:113] Plugin optimizer for device_type GPU is enabled.\n"
     ]
    },
    {
     "name": "stdout",
     "output_type": "stream",
     "text": [
      "110/110 [==============================] - 36s 319ms/step - loss: 0.5106 - accuracy: 0.8669\n",
      "Epoch 2/20\n",
      "110/110 [==============================] - 35s 315ms/step - loss: 0.2479 - accuracy: 0.9185\n",
      "Epoch 3/20\n",
      "110/110 [==============================] - 35s 315ms/step - loss: 0.1921 - accuracy: 0.9288\n",
      "Epoch 4/20\n",
      "110/110 [==============================] - 35s 316ms/step - loss: 0.1684 - accuracy: 0.9342\n",
      "Epoch 5/20\n",
      "110/110 [==============================] - 35s 317ms/step - loss: 0.1528 - accuracy: 0.9419\n",
      "Epoch 6/20\n",
      "110/110 [==============================] - 35s 315ms/step - loss: 0.1418 - accuracy: 0.9461\n",
      "Epoch 7/20\n",
      "110/110 [==============================] - 35s 315ms/step - loss: 0.1335 - accuracy: 0.9476\n",
      "Epoch 8/20\n",
      "110/110 [==============================] - 35s 316ms/step - loss: 0.1260 - accuracy: 0.9510\n",
      "Epoch 9/20\n",
      "110/110 [==============================] - 35s 315ms/step - loss: 0.1202 - accuracy: 0.9535\n",
      "Epoch 10/20\n",
      "110/110 [==============================] - 35s 315ms/step - loss: 0.1152 - accuracy: 0.9533\n",
      "Epoch 11/20\n",
      "110/110 [==============================] - 35s 316ms/step - loss: 0.1104 - accuracy: 0.9570\n",
      "Epoch 12/20\n",
      "110/110 [==============================] - 35s 315ms/step - loss: 0.1059 - accuracy: 0.9601\n",
      "Epoch 13/20\n",
      "110/110 [==============================] - 35s 314ms/step - loss: 0.1000 - accuracy: 0.9618\n",
      "Epoch 14/20\n",
      "110/110 [==============================] - 35s 314ms/step - loss: 0.0979 - accuracy: 0.9627\n",
      "Epoch 15/20\n",
      "110/110 [==============================] - 35s 314ms/step - loss: 0.0936 - accuracy: 0.9630\n",
      "Epoch 16/20\n",
      "110/110 [==============================] - 35s 315ms/step - loss: 0.0919 - accuracy: 0.9661\n",
      "Epoch 17/20\n",
      "110/110 [==============================] - 35s 315ms/step - loss: 0.0887 - accuracy: 0.9661\n",
      "Epoch 18/20\n",
      "110/110 [==============================] - 35s 315ms/step - loss: 0.0846 - accuracy: 0.9675\n",
      "Epoch 19/20\n",
      "110/110 [==============================] - 35s 315ms/step - loss: 0.0818 - accuracy: 0.9681\n",
      "Epoch 20/20\n",
      "110/110 [==============================] - 35s 315ms/step - loss: 0.0804 - accuracy: 0.9678\n"
     ]
    },
    {
     "data": {
      "text/plain": [
       "<keras.callbacks.History at 0x30769bac0>"
      ]
     },
     "execution_count": 14,
     "metadata": {},
     "output_type": "execute_result"
    }
   ],
   "source": [
    "completeModel.fit(trainImages, epochs=20, batch_size=100)"
   ]
  },
  {
   "cell_type": "markdown",
   "metadata": {},
   "source": [
    "## Test Some data"
   ]
  },
  {
   "cell_type": "code",
   "execution_count": 15,
   "metadata": {},
   "outputs": [
    {
     "name": "stderr",
     "output_type": "stream",
     "text": [
      "2023-10-02 20:39:58.814051: I tensorflow/core/grappler/optimizers/custom_graph_optimizer_registry.cc:113] Plugin optimizer for device_type GPU is enabled.\n"
     ]
    },
    {
     "name": "stdout",
     "output_type": "stream",
     "text": [
      "10/10 [==============================] - 4s 332ms/step - loss: 0.4624 - accuracy: 0.8820\n",
      "loss =  0.4623938500881195\n",
      "accuracy =  0.8819671869277954\n"
     ]
    }
   ],
   "source": [
    "score = completeModel.evaluate(testImages)\n",
    "print (\"loss = \", score[0])\n",
    "print (\"accuracy = \", score[1])"
   ]
  },
  {
   "cell_type": "markdown",
   "metadata": {},
   "source": [
    "## See what happens with a deer image"
   ]
  },
  {
   "cell_type": "code",
   "execution_count": 16,
   "metadata": {},
   "outputs": [
    {
     "name": "stdout",
     "output_type": "stream",
     "text": [
      "1/1 [==============================] - 0s 25ms/step\n",
      "[[9.9954605e-01 4.5396623e-04]]\n"
     ]
    }
   ],
   "source": [
    "testPicture = load_img('../deerdownload.jpg', target_size=(224,224))\n",
    "pictureArray = img_to_array(testPicture)\n",
    "pictureArray = pictureArray.reshape((1, pictureArray.shape[0], pictureArray.shape[1], pictureArray.shape[2]))\n",
    "pictureArray = preprocess_input(pictureArray)\n",
    "yhat = completeModel.predict(pictureArray)\n",
    "print(yhat)\n",
    "\n",
    "\n",
    "# 0 is deer 1 is no deer, i need to figure out how to change this"
   ]
  },
  {
   "cell_type": "markdown",
   "metadata": {},
   "source": [
    "## Save the model for export"
   ]
  },
  {
   "cell_type": "code",
   "execution_count": 17,
   "metadata": {},
   "outputs": [],
   "source": [
    "completeModel.save(\"alphaModel.keras\")"
   ]
  }
 ],
 "metadata": {
  "kernelspec": {
   "display_name": "Python 3.10 (tensorflow)",
   "language": "python",
   "name": "tensorflow"
  },
  "language_info": {
   "codemirror_mode": {
    "name": "ipython",
    "version": 3
   },
   "file_extension": ".py",
   "mimetype": "text/x-python",
   "name": "python",
   "nbconvert_exporter": "python",
   "pygments_lexer": "ipython3",
   "version": "3.10.9"
  },
  "orig_nbformat": 4
 },
 "nbformat": 4,
 "nbformat_minor": 2
}
