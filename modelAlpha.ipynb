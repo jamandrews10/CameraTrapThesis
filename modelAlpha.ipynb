{
 "cells": [
  {
   "cell_type": "markdown",
   "metadata": {},
   "source": [
    "# Camera Trap Processing Thesis\n",
    "\n",
    "Author: Jameson Andrews\\\n",
    "EDITS:\\\n",
    "09/13/2023, Initial Creation, Jameson"
   ]
  },
  {
   "cell_type": "markdown",
   "metadata": {},
   "source": [
    "## Load model"
   ]
  },
  {
   "cell_type": "code",
   "execution_count": 24,
   "metadata": {},
   "outputs": [
    {
     "name": "stdout",
     "output_type": "stream",
     "text": [
      "WARNING:tensorflow:6 out of the last 6 calls to <function Model.make_predict_function.<locals>.predict_function at 0x2d8ea1ea0> triggered tf.function retracing. Tracing is expensive and the excessive number of tracings could be due to (1) creating @tf.function repeatedly in a loop, (2) passing tensors with different shapes, (3) passing Python objects instead of tensors. For (1), please define your @tf.function outside of the loop. For (2), @tf.function has reduce_retracing=True option that can avoid unnecessary retracing. For (3), please refer to https://www.tensorflow.org/guide/function#controlling_retracing and https://www.tensorflow.org/api_docs/python/tf/function for  more details.\n",
      "1/1 [==============================] - 0s 187ms/step\n",
      "[[('n02423022', 'gazelle', 0.4982862), ('n02422699', 'impala', 0.4615827), ('n02422106', 'hartebeest', 0.033281878), ('n02417914', 'ibex', 0.0022351271), ('n02115913', 'dhole', 0.0011182867)]]\n",
      "Model: \"vgg19\"\n",
      "_________________________________________________________________\n",
      " Layer (type)                Output Shape              Param #   \n",
      "=================================================================\n",
      " input_14 (InputLayer)       [(None, 224, 224, 3)]     0         \n",
      "                                                                 \n",
      " block1_conv1 (Conv2D)       (None, 224, 224, 64)      1792      \n",
      "                                                                 \n",
      " block1_conv2 (Conv2D)       (None, 224, 224, 64)      36928     \n",
      "                                                                 \n",
      " block1_pool (MaxPooling2D)  (None, 112, 112, 64)      0         \n",
      "                                                                 \n",
      " block2_conv1 (Conv2D)       (None, 112, 112, 128)     73856     \n",
      "                                                                 \n",
      " block2_conv2 (Conv2D)       (None, 112, 112, 128)     147584    \n",
      "                                                                 \n",
      " block2_pool (MaxPooling2D)  (None, 56, 56, 128)       0         \n",
      "                                                                 \n",
      " block3_conv1 (Conv2D)       (None, 56, 56, 256)       295168    \n",
      "                                                                 \n",
      " block3_conv2 (Conv2D)       (None, 56, 56, 256)       590080    \n",
      "                                                                 \n",
      " block3_conv3 (Conv2D)       (None, 56, 56, 256)       590080    \n",
      "                                                                 \n",
      " block3_conv4 (Conv2D)       (None, 56, 56, 256)       590080    \n",
      "                                                                 \n",
      " block3_pool (MaxPooling2D)  (None, 28, 28, 256)       0         \n",
      "                                                                 \n",
      " block4_conv1 (Conv2D)       (None, 28, 28, 512)       1180160   \n",
      "                                                                 \n",
      " block4_conv2 (Conv2D)       (None, 28, 28, 512)       2359808   \n",
      "                                                                 \n",
      " block4_conv3 (Conv2D)       (None, 28, 28, 512)       2359808   \n",
      "                                                                 \n",
      " block4_conv4 (Conv2D)       (None, 28, 28, 512)       2359808   \n",
      "                                                                 \n",
      " block4_pool (MaxPooling2D)  (None, 14, 14, 512)       0         \n",
      "                                                                 \n",
      " block5_conv1 (Conv2D)       (None, 14, 14, 512)       2359808   \n",
      "                                                                 \n",
      " block5_conv2 (Conv2D)       (None, 14, 14, 512)       2359808   \n",
      "                                                                 \n",
      " block5_conv3 (Conv2D)       (None, 14, 14, 512)       2359808   \n",
      "                                                                 \n",
      " block5_conv4 (Conv2D)       (None, 14, 14, 512)       2359808   \n",
      "                                                                 \n",
      " block5_pool (MaxPooling2D)  (None, 7, 7, 512)         0         \n",
      "                                                                 \n",
      " flatten (Flatten)           (None, 25088)             0         \n",
      "                                                                 \n",
      " fc1 (Dense)                 (None, 4096)              102764544 \n",
      "                                                                 \n",
      " fc2 (Dense)                 (None, 4096)              16781312  \n",
      "                                                                 \n",
      " predictions (Dense)         (None, 1000)              4097000   \n",
      "                                                                 \n",
      "=================================================================\n",
      "Total params: 143,667,240\n",
      "Trainable params: 0\n",
      "Non-trainable params: 143,667,240\n",
      "_________________________________________________________________\n"
     ]
    },
    {
     "name": "stderr",
     "output_type": "stream",
     "text": [
      "2023-09-20 21:30:45.586937: I tensorflow/core/grappler/optimizers/custom_graph_optimizer_registry.cc:113] Plugin optimizer for device_type GPU is enabled.\n"
     ]
    }
   ],
   "source": [
    "import numpy as np\n",
    "import tensorflow as tf\n",
    "import keras\n",
    "from tensorflow.keras import models\n",
    "from tensorflow.keras.utils import load_img\n",
    "from tensorflow.keras.utils import img_to_array\n",
    "from keras.applications.vgg19 import preprocess_input\n",
    "from keras.applications.vgg19 import decode_predictions\n",
    "from keras.applications.vgg19 import VGG19\n",
    "\n",
    "\n",
    "testPicture = load_img('../deerdownload.jpg', target_size=(224,224))\n",
    "# testPicture = load_img('../resizeddeerdownload.jpg')\n",
    "# testPicture = load_img('../DeerNight.jpg')\n",
    "# testPicture = load_img('../resizedDeerNight.jpg')\n",
    "\n",
    "\n",
    "pictureArray = img_to_array(testPicture)\n",
    "# reshape data for the model\n",
    "pictureArray = pictureArray.reshape((1, pictureArray.shape[0], pictureArray.shape[1], pictureArray.shape[2]))\n",
    "# prepare the image for the VGG model\n",
    "pictureArray = preprocess_input(pictureArray)\n",
    "# load the model\n",
    "new_input = keras.Input(shape=(224, 224, 3))\n",
    "model = VGG19()\n",
    "# USE above for basic tests, below for adding to model\n",
    "# model = VGG19(include_top=False, input_tensor=new_input)\n",
    "model.trainable = False\n",
    "# predict the probability across all output classes\n",
    "yhat = model.predict(pictureArray)\n",
    "# convert the probabilities to class labels\n",
    "labels = decode_predictions(yhat)\n",
    "# retrieve the most likely result, e.g. highest probability\n",
    "label = labels[0][0]\n",
    "# print the classification\n",
    "print(labels)\n",
    "model.summary()"
   ]
  },
  {
   "cell_type": "markdown",
   "metadata": {},
   "source": [
    "## Try with a different input shape"
   ]
  },
  {
   "cell_type": "code",
   "execution_count": 17,
   "metadata": {},
   "outputs": [
    {
     "name": "stdout",
     "output_type": "stream",
     "text": [
      "Model: \"vgg19\"\n",
      "_________________________________________________________________\n",
      " Layer (type)                Output Shape              Param #   \n",
      "=================================================================\n",
      " input_10 (InputLayer)       [(None, 2592, 4608, 3)]   0         \n",
      "                                                                 \n",
      " block1_conv1 (Conv2D)       (None, 2592, 4608, 64)    1792      \n",
      "                                                                 \n",
      " block1_conv2 (Conv2D)       (None, 2592, 4608, 64)    36928     \n",
      "                                                                 \n",
      " block1_pool (MaxPooling2D)  (None, 1296, 2304, 64)    0         \n",
      "                                                                 \n",
      " block2_conv1 (Conv2D)       (None, 1296, 2304, 128)   73856     \n",
      "                                                                 \n",
      " block2_conv2 (Conv2D)       (None, 1296, 2304, 128)   147584    \n",
      "                                                                 \n",
      " block2_pool (MaxPooling2D)  (None, 648, 1152, 128)    0         \n",
      "                                                                 \n",
      " block3_conv1 (Conv2D)       (None, 648, 1152, 256)    295168    \n",
      "                                                                 \n",
      " block3_conv2 (Conv2D)       (None, 648, 1152, 256)    590080    \n",
      "                                                                 \n",
      " block3_conv3 (Conv2D)       (None, 648, 1152, 256)    590080    \n",
      "                                                                 \n",
      " block3_conv4 (Conv2D)       (None, 648, 1152, 256)    590080    \n",
      "                                                                 \n",
      " block3_pool (MaxPooling2D)  (None, 324, 576, 256)     0         \n",
      "                                                                 \n",
      " block4_conv1 (Conv2D)       (None, 324, 576, 512)     1180160   \n",
      "                                                                 \n",
      " block4_conv2 (Conv2D)       (None, 324, 576, 512)     2359808   \n",
      "                                                                 \n",
      " block4_conv3 (Conv2D)       (None, 324, 576, 512)     2359808   \n",
      "                                                                 \n",
      " block4_conv4 (Conv2D)       (None, 324, 576, 512)     2359808   \n",
      "                                                                 \n",
      " block4_pool (MaxPooling2D)  (None, 162, 288, 512)     0         \n",
      "                                                                 \n",
      " block5_conv1 (Conv2D)       (None, 162, 288, 512)     2359808   \n",
      "                                                                 \n",
      " block5_conv2 (Conv2D)       (None, 162, 288, 512)     2359808   \n",
      "                                                                 \n",
      " block5_conv3 (Conv2D)       (None, 162, 288, 512)     2359808   \n",
      "                                                                 \n",
      " block5_conv4 (Conv2D)       (None, 162, 288, 512)     2359808   \n",
      "                                                                 \n",
      " block5_pool (MaxPooling2D)  (None, 81, 144, 512)      0         \n",
      "                                                                 \n",
      "=================================================================\n",
      "Total params: 20,024,384\n",
      "Trainable params: 0\n",
      "Non-trainable params: 20,024,384\n",
      "_________________________________________________________________\n"
     ]
    }
   ],
   "source": [
    "testPicture = load_img('../DeerNight.jpg')\n",
    "pictureArray = img_to_array(testPicture)\n",
    "# print (pictureArray.shape)\n",
    "pictureArray = pictureArray.reshape((1, pictureArray.shape[0], pictureArray.shape[1], pictureArray.shape[2]))\n",
    "\n",
    "pictureArray = preprocess_input(pictureArray)\n",
    "# load model and specify a new input shape for images\n",
    "new_input = keras.Input(shape=(2592, 4608, 3))\n",
    "newModel = VGG19(include_top=False, input_tensor=new_input, pooling=\"maz\")\n",
    "newModel.trainable = False\n",
    "pictureArray = preprocess_input(pictureArray)\n",
    "newModel.summary()"
   ]
  },
  {
   "cell_type": "markdown",
   "metadata": {},
   "source": [
    "## Create new Output layer"
   ]
  },
  {
   "cell_type": "code",
   "execution_count": 21,
   "metadata": {},
   "outputs": [
    {
     "name": "stdout",
     "output_type": "stream",
     "text": [
      "Model: \"sequential_7\"\n",
      "_________________________________________________________________\n",
      " Layer (type)                Output Shape              Param #   \n",
      "=================================================================\n",
      " vgg19 (Functional)          (None, 81, 144, 512)      20024384  \n",
      "                                                                 \n",
      " flatten_6 (Flatten)         (None, 5971968)           0         \n",
      "                                                                 \n",
      " dense_11 (Dense)            (None, 100)               597196900 \n",
      "                                                                 \n",
      " dense_12 (Dense)            (None, 2)                 202       \n",
      "                                                                 \n",
      "=================================================================\n",
      "Total params: 617,221,486\n",
      "Trainable params: 597,197,102\n",
      "Non-trainable params: 20,024,384\n",
      "_________________________________________________________________\n"
     ]
    }
   ],
   "source": [
    "from keras.layers import Dense, Activation, Flatten\n",
    "\n",
    "completeModel = models.Sequential()\n",
    "completeModel.add(newModel)\n",
    "completeModel.add(Flatten())\n",
    "completeModel.add(Dense(100, activation = \"relu\"))\n",
    "completeModel.add(Dense(2, activation = \"softmax\"))\n",
    "completeModel.summary()\n"
   ]
  },
  {
   "cell_type": "markdown",
   "metadata": {},
   "source": [
    "## Orgainze test and training data"
   ]
  },
  {
   "cell_type": "code",
   "execution_count": null,
   "metadata": {},
   "outputs": [],
   "source": [
    "trainImages = \n",
    "trainCatagories = \n",
    "testImages = \n",
    "testCatagories = "
   ]
  },
  {
   "cell_type": "markdown",
   "metadata": {},
   "source": [
    "## Train Last three layers"
   ]
  },
  {
   "cell_type": "code",
   "execution_count": null,
   "metadata": {},
   "outputs": [],
   "source": [
    "completeModel.fit(trainImages, trainCatagories, epochs=25, batch_size=50)"
   ]
  },
  {
   "cell_type": "markdown",
   "metadata": {},
   "source": [
    "## Test Some data"
   ]
  },
  {
   "cell_type": "code",
   "execution_count": null,
   "metadata": {},
   "outputs": [],
   "source": [
    "score = completeModel.evaluate(testImages, testCatagories, verbose = 0)"
   ]
  }
 ],
 "metadata": {
  "kernelspec": {
   "display_name": "Python 3.10 (tensorflow)",
   "language": "python",
   "name": "tensorflow"
  },
  "language_info": {
   "codemirror_mode": {
    "name": "ipython",
    "version": 3
   },
   "file_extension": ".py",
   "mimetype": "text/x-python",
   "name": "python",
   "nbconvert_exporter": "python",
   "pygments_lexer": "ipython3",
   "version": "3.10.9"
  },
  "orig_nbformat": 4
 },
 "nbformat": 4,
 "nbformat_minor": 2
}
